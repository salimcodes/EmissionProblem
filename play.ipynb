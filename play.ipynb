{
 "cells": [
  {
   "cell_type": "code",
   "execution_count": null,
   "metadata": {},
   "outputs": [],
   "source": [
    "columns_to_load = ['ds', 'UnitedStatesofAmerica_yhat']\n",
    "dataset_UnitedStatesofAmerica = pd.read_excel('Emission_Dataset.xlsx', usecols=columns_to_load)\n",
    "dataset_UnitedStatesofAmerica = dataset_UnitedStatesofAmerica.rename(columns={'ds': 'ds',\n",
    "                        'UnitedStatesofAmerica_yhat': 'y'})\n",
    "Emission_UnitedStatesofAmericaModel.fit(dataset_UnitedStatesofAmerica)\n",
    "\n",
    "UnitedStatesofAmericaFuture_years = pd.date_range(start='2022', end='2051', freq='Y')\n",
    "UnitedStatesofAmericaFuture = pd.DataFrame({'ds': UnitedStatesofAmericaFuture_years})\n",
    "UnitedStatesofAmericaForecast = Emission_UnitedStatesofAmericaModel.predict(UnitedStatesofAmericaFuture)\n",
    "columns_to_load = ['ds', 'yhat']\n",
    "UnitedStatesofAmericaForecasted_values = UnitedStatesofAmericaForecast.loc[:, columns_to_load]\n",
    "UnitedStatesofAmericaForecasted_values = UnitedStatesofAmericaForecasted_values.rename(columns={'ds': 'ds',\n",
    "                        'yhat': 'y'})   \n",
    "Emission_UnitedStatesofAmerica = pd.concat([dataset_UnitedStatesofAmerica, UnitedStatesofAmericaForecasted_values], ignore_index=True)\n",
    "Emission_UnitedStatesofAmerica = Emission_UnitedStatesofAmerica.rename(columns={'ds': 'ds', 'y': 'UnitedStatesofAmerica_yhat'})"
   ]
  }
 ],
 "metadata": {
  "kernelspec": {
   "display_name": "Python 3",
   "language": "python",
   "name": "python3"
  },
  "language_info": {
   "name": "python",
   "version": "3.11.4"
  },
  "orig_nbformat": 4
 },
 "nbformat": 4,
 "nbformat_minor": 2
}
